{
 "cells": [
  {
   "cell_type": "markdown",
   "metadata": {
    "state": "normal"
   },
   "source": [
    "# Python data structures demo"
   ]
  },
  {
   "cell_type": "markdown",
   "metadata": {
    "state": "normal"
   },
   "source": [
    "## Text analysis and generation"
   ]
  },
  {
   "cell_type": "code",
   "execution_count": 1,
   "metadata": {
    "state": "normal"
   },
   "outputs": [],
   "source": [
    "import urllib.request\n",
    "\n",
    "md_url = 'https://www.gutenberg.org/files/2701/2701-0.txt'\n",
    "md_text = urllib.request.urlopen(md_url).read().decode()"
   ]
  },
  {
   "cell_type": "code",
   "execution_count": 2,
   "metadata": {},
   "outputs": [
    {
     "data": {
      "text/plain": [
       "'\\ufeffThe Project Gutenberg eBook of Moby-Dick; or The Whale, by Herman Melville\\r\\n\\r\\nThis eBook is for the'"
      ]
     },
     "execution_count": 2,
     "metadata": {},
     "output_type": "execute_result"
    }
   ],
   "source": [
    "md_text[:100]"
   ]
  },
  {
   "cell_type": "code",
   "execution_count": 4,
   "metadata": {
    "state": "normal"
   },
   "outputs": [
    {
     "data": {
      "text/plain": [
       "28842"
      ]
     },
     "execution_count": 4,
     "metadata": {},
     "output_type": "execute_result"
    }
   ],
   "source": [
    "idx = md_text.index('Call me Ishmael')\n",
    "idx"
   ]
  },
  {
   "cell_type": "code",
   "execution_count": 5,
   "metadata": {
    "state": "normal"
   },
   "outputs": [
    {
     "data": {
      "text/plain": [
       "'Call me Ishmael. Some years ago—never mind how long precisely—having\\r\\nlittle or no money in my purse'"
      ]
     },
     "execution_count": 5,
     "metadata": {},
     "output_type": "execute_result"
    }
   ],
   "source": [
    "md_text[idx:idx+100]"
   ]
  },
  {
   "cell_type": "code",
   "execution_count": 6,
   "metadata": {
    "state": "normal"
   },
   "outputs": [
    {
     "data": {
      "text/plain": [
       "['Call',\n",
       " 'me',\n",
       " 'Ishmael.',\n",
       " 'Some',\n",
       " 'years',\n",
       " 'ago—never',\n",
       " 'mind',\n",
       " 'how',\n",
       " 'long',\n",
       " 'precisely—having',\n",
       " 'little',\n",
       " 'or',\n",
       " 'no',\n",
       " 'money',\n",
       " 'in',\n",
       " 'my',\n",
       " 'purse']"
      ]
     },
     "execution_count": 6,
     "metadata": {},
     "output_type": "execute_result"
    }
   ],
   "source": [
    "md_text[idx:idx+100].split()"
   ]
  },
  {
   "cell_type": "code",
   "execution_count": 7,
   "metadata": {
    "state": "normal"
   },
   "outputs": [],
   "source": [
    "md_words = md_text.lower().split()"
   ]
  },
  {
   "cell_type": "code",
   "execution_count": 8,
   "metadata": {
    "state": "normal"
   },
   "outputs": [
    {
     "data": {
      "text/plain": [
       "215864"
      ]
     },
     "execution_count": 8,
     "metadata": {},
     "output_type": "execute_result"
    }
   ],
   "source": [
    "len(md_words)"
   ]
  },
  {
   "cell_type": "code",
   "execution_count": 9,
   "metadata": {
    "state": "normal"
   },
   "outputs": [
    {
     "data": {
      "text/plain": [
       "31821"
      ]
     },
     "execution_count": 9,
     "metadata": {},
     "output_type": "execute_result"
    }
   ],
   "source": [
    "md_words_uniq = set(md_words)\n",
    "len(md_words_uniq)"
   ]
  },
  {
   "cell_type": "code",
   "execution_count": 15,
   "metadata": {
    "state": "normal"
   },
   "outputs": [],
   "source": [
    "# compute the frequency of each word in the text\n",
    "md_word_counts = {}\n",
    "for w in md_words:\n",
    "    try:\n",
    "        md_word_counts[w] += 1\n",
    "    except KeyError:\n",
    "        md_word_counts[w] = 1"
   ]
  },
  {
   "cell_type": "code",
   "execution_count": 11,
   "metadata": {
    "state": "normal"
   },
   "outputs": [
    {
     "data": {
      "text/plain": [
       "14511"
      ]
     },
     "execution_count": 11,
     "metadata": {},
     "output_type": "execute_result"
    }
   ],
   "source": [
    "md_word_counts['the']"
   ]
  },
  {
   "cell_type": "code",
   "execution_count": 12,
   "metadata": {
    "state": "normal"
   },
   "outputs": [
    {
     "data": {
      "text/plain": [
       "31821"
      ]
     },
     "execution_count": 12,
     "metadata": {},
     "output_type": "execute_result"
    }
   ],
   "source": [
    "len(md_word_counts)"
   ]
  },
  {
   "cell_type": "code",
   "execution_count": 13,
   "metadata": {
    "state": "normal"
   },
   "outputs": [
    {
     "data": {
      "text/plain": [
       "[('\\ufeffthe', 1),\n",
       " ('project', 87),\n",
       " ('gutenberg', 25),\n",
       " ('ebook', 8),\n",
       " ('of', 6683),\n",
       " ('moby-dick;', 5),\n",
       " ('or', 775),\n",
       " ('the', 14511),\n",
       " ('whale,', 212),\n",
       " ('by', 1177)]"
      ]
     },
     "execution_count": 13,
     "metadata": {},
     "output_type": "execute_result"
    }
   ],
   "source": [
    "# recall: `items` returns a list of key-value tuples\n",
    "list(md_word_counts.items())[:10]"
   ]
  },
  {
   "cell_type": "code",
   "execution_count": 16,
   "metadata": {
    "state": "normal"
   },
   "outputs": [],
   "source": [
    "# sort the tuples by frequency\n",
    "md_word_counts_sorted = sorted(md_word_counts.items())"
   ]
  },
  {
   "cell_type": "code",
   "execution_count": 17,
   "metadata": {
    "state": "normal"
   },
   "outputs": [
    {
     "data": {
      "text/plain": [
       "[('\"defects,\"', 1),\n",
       " ('\"information', 1),\n",
       " ('\"plain', 2),\n",
       " ('\"project', 5),\n",
       " ('\"right', 1),\n",
       " ('#2701]', 1),\n",
       " ('$20,000,000!', 1),\n",
       " ('$5,000)', 1),\n",
       " ('$7,000,000.', 1),\n",
       " ('&', 2)]"
      ]
     },
     "execution_count": 17,
     "metadata": {},
     "output_type": "execute_result"
    }
   ],
   "source": [
    "md_word_counts_sorted[:10]"
   ]
  },
  {
   "cell_type": "code",
   "execution_count": 18,
   "metadata": {
    "state": "normal"
   },
   "outputs": [],
   "source": [
    "# load stopwords to eliminate from the word counts\n",
    "sw_url = 'https://moss.cs.iit.edu/stopwords.txt'\n",
    "sw_text = urllib.request.urlopen(sw_url).read().decode()\n",
    "stopwords = sw_text.split()"
   ]
  },
  {
   "cell_type": "code",
   "execution_count": 19,
   "metadata": {},
   "outputs": [
    {
     "data": {
      "text/plain": [
       "174"
      ]
     },
     "execution_count": 19,
     "metadata": {},
     "output_type": "execute_result"
    }
   ],
   "source": [
    "len(stopwords)"
   ]
  },
  {
   "cell_type": "code",
   "execution_count": 20,
   "metadata": {},
   "outputs": [
    {
     "data": {
      "text/plain": [
       "['a',\n",
       " 'any',\n",
       " 'below',\n",
       " \"didn't\",\n",
       " 'for',\n",
       " 'he',\n",
       " 'himself',\n",
       " 'in',\n",
       " 'more',\n",
       " 'on',\n",
       " 'over',\n",
       " 'so',\n",
       " 'themselves',\n",
       " 'this',\n",
       " \"wasn't\",\n",
       " 'when',\n",
       " \"why's\",\n",
       " 'your']"
      ]
     },
     "execution_count": 20,
     "metadata": {},
     "output_type": "execute_result"
    }
   ],
   "source": [
    "stopwords[::10]"
   ]
  },
  {
   "cell_type": "code",
   "execution_count": 24,
   "metadata": {
    "state": "normal"
   },
   "outputs": [
    {
     "data": {
      "text/plain": [
       "31698"
      ]
     },
     "execution_count": 24,
     "metadata": {},
     "output_type": "execute_result"
    }
   ],
   "source": [
    "# remove stopwords\n",
    "for sw in stopwords:\n",
    "    try: del md_word_counts[sw]\n",
    "    except KeyError: pass\n",
    "    \n",
    "len(md_word_counts)"
   ]
  },
  {
   "cell_type": "code",
   "execution_count": 22,
   "metadata": {
    "state": "normal"
   },
   "outputs": [],
   "source": [
    "md_word_counts_sorted = sorted(md_word_counts.items(),\n",
    "                               key=lambda t: t[1],\n",
    "                               reverse=True)"
   ]
  },
  {
   "cell_type": "code",
   "execution_count": 23,
   "metadata": {
    "state": "normal"
   },
   "outputs": [
    {
     "data": {
      "text/plain": [
       "[('one', 782),\n",
       " ('like', 564),\n",
       " ('upon', 558),\n",
       " ('whale', 532),\n",
       " ('now', 501),\n",
       " ('old', 426),\n",
       " ('will', 358),\n",
       " ('though', 311),\n",
       " ('chapter', 296),\n",
       " ('great', 294)]"
      ]
     },
     "execution_count": 23,
     "metadata": {},
     "output_type": "execute_result"
    }
   ],
   "source": [
    "md_word_counts_sorted[:10]"
   ]
  },
  {
   "cell_type": "code",
   "execution_count": 27,
   "metadata": {
    "state": "normal"
   },
   "outputs": [
    {
     "data": {
      "image/png": "[encoded data removed]",
      "text/plain": [
       "<Figure size 1200x500 with 1 Axes>"
      ]
     },
     "metadata": {},
     "output_type": "display_data"
    }
   ],
   "source": [
    "# plot a histogram of the top 25 words\n",
    "\n",
    "import matplotlib.pyplot as plt\n",
    "\n",
    "# need lists of the first n words/counts to plot\n",
    "n = 25\n",
    "words  = [ md_word_counts_sorted[i][0] for i in range(n) ]\n",
    "counts = [ md_word_counts_sorted[i][1] for i in range(n) ]\n",
    "\n",
    "plt.rcParams['figure.figsize'] = [12, 5]\n",
    "plt.bar(range(n), counts)\n",
    "plt.xticks(range(n), words, rotation=60, fontsize=12)\n",
    "plt.show()"
   ]
  },
  {
   "cell_type": "code",
   "execution_count": 53,
   "metadata": {
    "state": "normal"
   },
   "outputs": [
    {
     "name": "stdout",
     "output_type": "stream",
     "text": [
      "[['\\ufeffthe', 'project'],\n",
      " ['project', 'gutenberg'],\n",
      " ['gutenberg', 'ebook'],\n",
      " ['ebook', 'of'],\n",
      " ['of', 'moby-dick;'],\n",
      " ['moby-dick;', 'or'],\n",
      " ['or', 'the'],\n",
      " ['the', 'whale,'],\n",
      " ['whale,', 'by'],\n",
      " ['by', 'herman']]\n",
      "[['\\ufeffthe', 'project', 'gutenberg', 'ebook'],\n",
      " ['project', 'gutenberg', 'ebook', 'of'],\n",
      " ['gutenberg', 'ebook', 'of', 'moby-dick;'],\n",
      " ['ebook', 'of', 'moby-dick;', 'or'],\n",
      " ['of', 'moby-dick;', 'or', 'the'],\n",
      " ['moby-dick;', 'or', 'the', 'whale,'],\n",
      " ['or', 'the', 'whale,', 'by'],\n",
      " ['the', 'whale,', 'by', 'herman'],\n",
      " ['whale,', 'by', 'herman', 'melville'],\n",
      " ['by', 'herman', 'melville', 'this']]\n"
     ]
    }
   ],
   "source": [
    "# collect all two-word phrases (2-grams) as lists\n",
    "from typing import List\n",
    "\n",
    "def collect_n_grams(n: int, source: List[str]) -> List[List[str]]:\n",
    "    \"\"\"Return list of n-grams (represented as lists of n length).\"\"\"\n",
    "    numbered = range(len(md_words) - n)\n",
    "    \n",
    "    return [source[i:i+n] for i in numbered]\n",
    "\n",
    "phrases_2 = collect_n_grams(2, md_words)\n",
    "phrases_4 = collect_n_grams(4, md_words)\n",
    "\n",
    "pp(phrases_2[:10])\n",
    "pp(phrases_4[:10])"
   ]
  },
  {
   "cell_type": "code",
   "execution_count": 73,
   "metadata": {
    "state": "normal"
   },
   "outputs": [
    {
     "data": {
      "text/plain": [
       "['author:',\n",
       " '***',\n",
       " 'as',\n",
       " 'watch.',\n",
       " 'statements,',\n",
       " 'or',\n",
       " 'to',\n",
       " 'is',\n",
       " 'can’t',\n",
       " 'taken']"
      ]
     },
     "execution_count": 73,
     "metadata": {},
     "output_type": "execute_result"
    }
   ],
   "source": [
    "# map each word to a list of all the words that\n",
    "# follow it in the text\n",
    "phrase_2_dict = {}\n",
    "for w1, w2 in phrases_2:\n",
    "    try:\n",
    "        phrase_2_dict[w1].append(w2)\n",
    "    except KeyError:\n",
    "        phrase_2_dict[w1] = [w2]\n",
    "\n",
    "phrase_2_dict['whale'][:10]"
   ]
  },
  {
   "cell_type": "code",
   "execution_count": 68,
   "metadata": {
    "state": "normal"
   },
   "outputs": [
    {
     "data": {
      "text/plain": [
       "'whale is the toil. so far successful fugitive finds no compass at any of flame we must'"
      ]
     },
     "execution_count": 68,
     "metadata": {},
     "output_type": "execute_result"
    }
   ],
   "source": [
    "# generate a sentence based on two-word phrase statistics from Moby Dick\n",
    "import random\n",
    "\n",
    "gen_words = ['whale']\n",
    "while len(gen_words) < 17:\n",
    "    w = gen_words[-1]\n",
    "    gen_words.append(random.choice(phrase_2_dict[w]))\n",
    "\n",
    "' '.join(gen_words)"
   ]
  },
  {
   "cell_type": "code",
   "execution_count": 72,
   "metadata": {},
   "outputs": [
    {
     "data": {
      "text/plain": [
       "[['author:', 'herman', 'melville'],\n",
       " ['***', 'moby-dick;', 'or,'],\n",
       " ['as', 'a', 'dish.'],\n",
       " ['watch.', 'chapter', '118.'],\n",
       " ['statements,', 'however', 'authentic,'],\n",
       " ['or', 'ork', 'we'],\n",
       " ['to', 'shore', 'flies'],\n",
       " ['is', 'floating', 'at'],\n",
       " ['can’t', 'open', 'his'],\n",
       " ['taken', 'near', 'shetland,']]"
      ]
     },
     "execution_count": 72,
     "metadata": {},
     "output_type": "execute_result"
    }
   ],
   "source": [
    "from typing import Dict, Tuple\n",
    "\n",
    "phrase_4_dict: Dict[str, Tuple[str, str, str]] = {}\n",
    "\n",
    "for p in phrases_4:\n",
    "    w, *rest = p\n",
    "    \n",
    "    try:\n",
    "        phrase_4_dict[w].append(rest)\n",
    "    except KeyError:\n",
    "        phrase_4_dict[w] = [rest]\n",
    "        \n",
    "phrase_4_dict['whale'][:10]"
   ]
  },
  {
   "cell_type": "code",
   "execution_count": 69,
   "metadata": {
    "state": "normal"
   },
   "outputs": [
    {
     "data": {
      "text/plain": [
       "'whale in this particular. it also seems they always give the glory to nothing but a thing as to'"
      ]
     },
     "execution_count": 69,
     "metadata": {},
     "output_type": "execute_result"
    }
   ],
   "source": [
    "# generate a sentence based on two-word phrase statistics from Moby Dick\n",
    "gen_4_words = ['whale']\n",
    "while len(gen_4_words) < 17:\n",
    "    w = gen_4_words[-1]\n",
    "    gen_4_words.extend(random.choice(phrase_4_dict[w]))\n",
    "\n",
    "' '.join(gen_4_words)"
   ]
  },
  {
   "cell_type": "markdown",
   "metadata": {},
   "source": [
    "## California Housing Data"
   ]
  },
  {
   "cell_type": "code",
   "execution_count": 74,
   "metadata": {},
   "outputs": [
    {
     "ename": "FileNotFoundError",
     "evalue": "[Errno 2] No such file or directory: 'sample_data/california_housing_train.csv'",
     "output_type": "error",
     "traceback": [
      "\u001b[0;31m---------------------------------------------------------------------------\u001b[0m",
      "\u001b[0;31mFileNotFoundError\u001b[0m                         Traceback (most recent call last)",
      "Cell \u001b[0;32mIn[74], line 4\u001b[0m\n\u001b[1;32m      1\u001b[0m \u001b[38;5;66;03m# Load dataset from CSV file\u001b[39;00m\n\u001b[1;32m      3\u001b[0m csv_file \u001b[38;5;241m=\u001b[39m \u001b[38;5;124m'\u001b[39m\u001b[38;5;124msample_data/california_housing_train.csv\u001b[39m\u001b[38;5;124m'\u001b[39m\n\u001b[0;32m----> 4\u001b[0m \u001b[38;5;28;01mwith\u001b[39;00m \u001b[38;5;28;43mopen\u001b[39;49m\u001b[43m(\u001b[49m\u001b[43mcsv_file\u001b[49m\u001b[43m)\u001b[49m \u001b[38;5;28;01mas\u001b[39;00m infile:\n\u001b[1;32m      5\u001b[0m     \u001b[38;5;28mprint\u001b[39m(infile\u001b[38;5;241m.\u001b[39mreadline()) \u001b[38;5;66;03m# can read lines individually\u001b[39;00m\n\u001b[1;32m      6\u001b[0m     \u001b[38;5;28;01mfor\u001b[39;00m line \u001b[38;5;129;01min\u001b[39;00m infile: \u001b[38;5;66;03m# or iterate over the entire file\u001b[39;00m\n",
      "File \u001b[0;32m~/college/cs_331/lectures/.env/lib/python3.9/site-packages/IPython/core/interactiveshell.py:310\u001b[0m, in \u001b[0;36m_modified_open\u001b[0;34m(file, *args, **kwargs)\u001b[0m\n\u001b[1;32m    303\u001b[0m \u001b[38;5;28;01mif\u001b[39;00m file \u001b[38;5;129;01min\u001b[39;00m {\u001b[38;5;241m0\u001b[39m, \u001b[38;5;241m1\u001b[39m, \u001b[38;5;241m2\u001b[39m}:\n\u001b[1;32m    304\u001b[0m     \u001b[38;5;28;01mraise\u001b[39;00m \u001b[38;5;167;01mValueError\u001b[39;00m(\n\u001b[1;32m    305\u001b[0m         \u001b[38;5;124mf\u001b[39m\u001b[38;5;124m\"\u001b[39m\u001b[38;5;124mIPython won\u001b[39m\u001b[38;5;124m'\u001b[39m\u001b[38;5;124mt let you open fd=\u001b[39m\u001b[38;5;132;01m{\u001b[39;00mfile\u001b[38;5;132;01m}\u001b[39;00m\u001b[38;5;124m by default \u001b[39m\u001b[38;5;124m\"\u001b[39m\n\u001b[1;32m    306\u001b[0m         \u001b[38;5;124m\"\u001b[39m\u001b[38;5;124mas it is likely to crash IPython. If you know what you are doing, \u001b[39m\u001b[38;5;124m\"\u001b[39m\n\u001b[1;32m    307\u001b[0m         \u001b[38;5;124m\"\u001b[39m\u001b[38;5;124myou can use builtins\u001b[39m\u001b[38;5;124m'\u001b[39m\u001b[38;5;124m open.\u001b[39m\u001b[38;5;124m\"\u001b[39m\n\u001b[1;32m    308\u001b[0m     )\n\u001b[0;32m--> 310\u001b[0m \u001b[38;5;28;01mreturn\u001b[39;00m \u001b[43mio_open\u001b[49m\u001b[43m(\u001b[49m\u001b[43mfile\u001b[49m\u001b[43m,\u001b[49m\u001b[43m \u001b[49m\u001b[38;5;241;43m*\u001b[39;49m\u001b[43margs\u001b[49m\u001b[43m,\u001b[49m\u001b[43m \u001b[49m\u001b[38;5;241;43m*\u001b[39;49m\u001b[38;5;241;43m*\u001b[39;49m\u001b[43mkwargs\u001b[49m\u001b[43m)\u001b[49m\n",
      "\u001b[0;31mFileNotFoundError\u001b[0m: [Errno 2] No such file or directory: 'sample_data/california_housing_train.csv'"
     ]
    }
   ],
   "source": [
    "# Load dataset from CSV file\n",
    "\n",
    "csv_file = 'sample_data/california_housing_train.csv'\n",
    "with open(csv_file) as infile:\n",
    "    print(infile.readline()) # can read lines individually\n",
    "    for line in infile: # or iterate over the entire file\n",
    "        print(line)"
   ]
  },
  {
   "cell_type": "code",
   "execution_count": null,
   "metadata": {},
   "outputs": [],
   "source": [
    "# load CSV file contents into a dictionary (how to structure its contents?)\n",
    "housing_data = {}\n",
    "\n",
    "with open(csv_file) as infile:\n",
    "    pass"
   ]
  },
  {
   "cell_type": "code",
   "execution_count": null,
   "metadata": {},
   "outputs": [],
   "source": [
    "housing_data['\"population\"'][:10]"
   ]
  },
  {
   "cell_type": "code",
   "execution_count": null,
   "metadata": {},
   "outputs": [],
   "source": [
    "sum(housing_data['\"population\"']) / len(housing_data['\"population\"'])"
   ]
  },
  {
   "cell_type": "markdown",
   "metadata": {},
   "source": [
    "### Specialized data structure: Pandas DataFrame"
   ]
  },
  {
   "cell_type": "code",
   "execution_count": null,
   "metadata": {},
   "outputs": [],
   "source": [
    "import pandas\n",
    "\n",
    "df = pandas.read_csv('sample_data/california_housing_train.csv')"
   ]
  },
  {
   "cell_type": "code",
   "execution_count": null,
   "metadata": {},
   "outputs": [],
   "source": [
    "df['population'][:10]"
   ]
  },
  {
   "cell_type": "code",
   "execution_count": null,
   "metadata": {},
   "outputs": [],
   "source": [
    "df['population'].mean()"
   ]
  }
 ],
 "metadata": {
  "kernelspec": {
   "display_name": "Python 3 (ipykernel)",
   "language": "python",
   "name": "python3"
  },
  "language_info": {
   "codemirror_mode": {
    "name": "ipython",
    "version": 3
   },
   "file_extension": ".py",
   "mimetype": "text/x-python",
   "name": "python",
   "nbconvert_exporter": "python",
   "pygments_lexer": "ipython3",
   "version": "3.9.7"
  },
  "mimir": {
   "data": {},
   "last_submission_id": "",
   "project_id": "cd4ec141-8c35-4635-877c-c12fc50054c9"
  },
  "varInspector": {
   "cols": {
    "lenName": 16,
    "lenType": 16,
    "lenVar": 40
   },
   "kernels_config": {
    "python": {
     "delete_cmd_postfix": "",
     "delete_cmd_prefix": "del ",
     "library": "var_list.py",
     "varRefreshCmd": "print(var_dic_list())"
    },
    "r": {
     "delete_cmd_postfix": ") ",
     "delete_cmd_prefix": "rm(",
     "library": "var_list.r",
     "varRefreshCmd": "cat(var_dic_list()) "
    }
   },
   "types_to_exclude": [
    "module",
    "function",
    "builtin_function_or_method",
    "instance",
    "_Feature"
   ],
   "window_display": false
  }
 },
 "nbformat": 4,
 "nbformat_minor": 4
}
