{
 "cells": [
  {
   "cell_type": "markdown",
   "metadata": {},
   "source": [
    "# The Array-Backed List\n",
    "\n",
    "## Agenda\n",
    "\n",
    "1. The List **Abstract Data Type** (ADT)\n",
    "2. A List **Data Structure**\n",
    "3. The List API\n",
    "4. Getting started\n",
    "5. NumPy arrays\n",
    "6. The `ArrayList` data structure\n",
    "7. Runtime analysis"
   ]
  },
  {
   "cell_type": "markdown",
   "metadata": {},
   "source": [
    "## 1. The List **Abstract Data Type** (ADT)\n",
    "\n",
    "An **abstract data type (ADT)** defines a *conceptual model* for how data may be stored and accessed.\n",
    "\n",
    "A **list ADT** is a data container where:\n",
    "\n",
    "- values are ordered in a *sequence*\n",
    "- each value has at most one preceding and one succeeding value\n",
    "- a given value may appear more than once in a list\n",
    "\n",
    "Other common ADTs (some of which we'll explore later) include:\n",
    "\n",
    "- Stacks\n",
    "- Queues\n",
    "- Priority Queues\n",
    "- Maps\n",
    "- Graphs"
   ]
  },
  {
   "cell_type": "markdown",
   "metadata": {},
   "source": [
    "## 2. A List **Data Structure**\n",
    "\n",
    "A **list data structure** is a *concrete implementation* of the list ADT in some programming language, which, in addition to adhering to the basic premises of the ADT, will also typically support operations that:\n",
    "\n",
    "- access values in the list by their position (index)\n",
    "- append and insert new values into the list\n",
    "- remove values from the list\n",
    "\n",
    "The implementation of any data structure will generally rely on simpler, constituent data types (e.g., \"primitive\" types offered by the language), the choice of which may affect the runtime complexities of said operations."
   ]
  },
  {
   "cell_type": "markdown",
   "metadata": {},
   "source": [
    "## 3. The List API\n",
    "\n",
    "The operations we'll be building into our list data structures will be based on the [common](https://docs.python.org/3.6/library/stdtypes.html#common-sequence-operations) and [mutable](https://docs.python.org/3.6/library/stdtypes.html#mutable-sequence-types) sequence operations defined by the Python library."
   ]
  },
  {
   "cell_type": "code",
   "execution_count": null,
   "metadata": {},
   "outputs": [],
   "source": [
    "class List:        \n",
    "    ### subscript-based access ###\n",
    "    \n",
    "    def __getitem__(self, idx):\n",
    "        \"\"\"Implements `x = self[idx]`\"\"\"\n",
    "        pass\n",
    "\n",
    "    def __setitem__(self, idx, value):\n",
    "        \"\"\"Implements `self[idx] = x`\"\"\"\n",
    "        pass\n",
    "\n",
    "    def __delitem__(self, idx):\n",
    "        \"\"\"Implements `del self[idx]`\"\"\"\n",
    "        pass\n",
    "    \n",
    "    ### stringification ###\n",
    "            \n",
    "    def __repr__(self):\n",
    "        \"\"\"Supports inspection\"\"\"\n",
    "        return '[]'\n",
    "    \n",
    "    def __str__(self):\n",
    "        \"\"\"Implements `str(self)`\"\"\"\n",
    "        return '[]'\n",
    "\n",
    "    ### single-element manipulation ###\n",
    "    \n",
    "    def append(self, value):\n",
    "        pass\n",
    "    \n",
    "    def insert(self, idx, value):\n",
    "        pass\n",
    "    \n",
    "    def pop(self, idx=-1):\n",
    "        pass\n",
    "    \n",
    "    def remove(self, value):\n",
    "        pass\n",
    "    \n",
    "    ### predicates (T/F queries) ###\n",
    "    \n",
    "    def __eq__(self, other):\n",
    "        \"\"\"Implements `self == other`\"\"\"\n",
    "        return True\n",
    "\n",
    "    def __contains__(self, value):\n",
    "        \"\"\"Implements `val in self`\"\"\"\n",
    "        return True\n",
    "    \n",
    "    ### queries ###\n",
    "    \n",
    "    def __len__(self):\n",
    "        \"\"\"Implements `len(self)`\"\"\"\n",
    "        return len(self.data)\n",
    "    \n",
    "    def min(self):\n",
    "        pass\n",
    "    \n",
    "    def max(self):\n",
    "        pass\n",
    "    \n",
    "    def index(self, value, i, j):\n",
    "        pass\n",
    "    \n",
    "    def count(self, value):\n",
    "        pass\n",
    "\n",
    "    ### bulk operations ###\n",
    "\n",
    "    def __add__(self, other):\n",
    "        \"\"\"Implements `self + other_array_list`\"\"\"\n",
    "        return self\n",
    "    \n",
    "    def clear(self):\n",
    "        pass\n",
    "    \n",
    "    def copy(self):\n",
    "        pass\n",
    "\n",
    "    def extend(self, other):\n",
    "        pass\n",
    "\n",
    "    ### iteration ###\n",
    "    \n",
    "    def __iter__(self):\n",
    "        \"\"\"Supports iteration (via `iter(self)`)\"\"\"\n",
    "        pass"
   ]
  },
  {
   "cell_type": "markdown",
   "metadata": {},
   "source": [
    "## 4. Getting started"
   ]
  },
  {
   "cell_type": "code",
   "execution_count": 18,
   "metadata": {
    "tags": []
   },
   "outputs": [],
   "source": [
    "class List:\n",
    "    def append(self, value):\n",
    "        self.val = value\n",
    "    \n",
    "    def __getitem__(self, idx):\n",
    "        \"\"\"Implements `x = self[idx]`\"\"\"\n",
    "        return self.val\n",
    "\n",
    "    def __setitem__(self, idx, value):\n",
    "        \"\"\"Implements `self[idx] = x`\"\"\"\n",
    "        self.val = value\n",
    "    \n",
    "    def __repr__(self):\n",
    "        \"\"\"Supports inspection\"\"\"\n",
    "        return f\"[{repr(self.val)}]\""
   ]
  },
  {
   "cell_type": "code",
   "execution_count": 21,
   "metadata": {},
   "outputs": [],
   "source": [
    "l = List()\n",
    "l.append(42)"
   ]
  },
  {
   "cell_type": "code",
   "execution_count": 22,
   "metadata": {},
   "outputs": [
    {
     "data": {
      "text/plain": [
       "[42]"
      ]
     },
     "execution_count": 22,
     "metadata": {},
     "output_type": "execute_result"
    }
   ],
   "source": [
    "l # equivalent to l.__repr__()"
   ]
  },
  {
   "cell_type": "code",
   "execution_count": 23,
   "metadata": {},
   "outputs": [
    {
     "data": {
      "text/plain": [
       "42"
      ]
     },
     "execution_count": 23,
     "metadata": {},
     "output_type": "execute_result"
    }
   ],
   "source": [
    "l[0] # equivalent to l.__getitem__(0)"
   ]
  },
  {
   "cell_type": "code",
   "execution_count": 24,
   "metadata": {},
   "outputs": [],
   "source": [
    "l[0] = 331 # equivalent to l.__setitem__(0, 331)"
   ]
  },
  {
   "cell_type": "code",
   "execution_count": 25,
   "metadata": {},
   "outputs": [
    {
     "data": {
      "text/plain": [
       "331"
      ]
     },
     "execution_count": 25,
     "metadata": {},
     "output_type": "execute_result"
    }
   ],
   "source": [
    "l[500]"
   ]
  },
  {
   "cell_type": "code",
   "execution_count": 26,
   "metadata": {},
   "outputs": [
    {
     "data": {
      "text/plain": [
       "[331]"
      ]
     },
     "execution_count": 26,
     "metadata": {},
     "output_type": "execute_result"
    }
   ],
   "source": [
    "l"
   ]
  },
  {
   "cell_type": "markdown",
   "metadata": {},
   "source": [
    "Of course, we need our list implementation to hold more than a single element. The obvious solution for this is to use an *array*."
   ]
  },
  {
   "cell_type": "markdown",
   "metadata": {},
   "source": [
    "## 5. NumPy arrays\n",
    "\n",
    "Python does not come with a built-in array type. Instead, we're going to make use of the array implementation provided by the [NumPy scientific computing package](https://numpy.org/doc/stable/user/absolute_beginners.html).\n",
    "\n",
    "To create a NumPy array of size N, we can do:"
   ]
  },
  {
   "cell_type": "code",
   "execution_count": 31,
   "metadata": {},
   "outputs": [
    {
     "data": {
      "text/plain": [
       "array([None, None, None, None, None, None, None, None, None, None],\n",
       "      dtype=object)"
      ]
     },
     "execution_count": 31,
     "metadata": {},
     "output_type": "execute_result"
    }
   ],
   "source": [
    "import numpy as np\n",
    "\n",
    "N = 10\n",
    "arr = np.empty(N, dtype=object)\n",
    "arr"
   ]
  },
  {
   "cell_type": "markdown",
   "metadata": {},
   "source": [
    "The `dtype=object` specification indicates that we want to use the array to store references to arbitrary Python objects. The `empty` function creates an array of the specified size, but leaves all elements uninitialized."
   ]
  },
  {
   "cell_type": "code",
   "execution_count": 41,
   "metadata": {},
   "outputs": [
    {
     "ename": "IndexError",
     "evalue": "index 10 is out of bounds for axis 0 with size 10",
     "output_type": "error",
     "traceback": [
      "\u001b[0;31m---------------------------------------------------------------------------\u001b[0m",
      "\u001b[0;31mIndexError\u001b[0m                                Traceback (most recent call last)",
      "Cell \u001b[0;32mIn[41], line 6\u001b[0m\n\u001b[1;32m      4\u001b[0m arr[\u001b[38;5;241m0\u001b[39m]  \u001b[38;5;241m=\u001b[39m \u001b[38;5;124m'\u001b[39m\u001b[38;5;124mhello\u001b[39m\u001b[38;5;124m'\u001b[39m\n\u001b[1;32m      5\u001b[0m arr[\u001b[38;5;241m4\u001b[39m] \u001b[38;5;241m=\u001b[39m \u001b[38;5;124m'\u001b[39m\u001b[38;5;124mworld\u001b[39m\u001b[38;5;124m'\u001b[39m\n\u001b[0;32m----> 6\u001b[0m \u001b[43marr\u001b[49m\u001b[43m[\u001b[49m\u001b[38;5;241;43m10\u001b[39;49m\u001b[43m]\u001b[49m \u001b[38;5;241m=\u001b[39m \u001b[38;5;124m\"\u001b[39m\u001b[38;5;124mthis isn\u001b[39m\u001b[38;5;124m'\u001b[39m\u001b[38;5;124mt here\u001b[39m\u001b[38;5;124m\"\u001b[39m\n\u001b[1;32m      7\u001b[0m arr\n",
      "\u001b[0;31mIndexError\u001b[0m: index 10 is out of bounds for axis 0 with size 10"
     ]
    }
   ],
   "source": [
    "for i in range(5):\n",
    "    arr[i] = i\n",
    "\n",
    "arr[0]  = 'hello'\n",
    "arr[4] = 'world'\n",
    "arr[10] = \"this isn't here\"\n",
    "arr"
   ]
  },
  {
   "cell_type": "code",
   "execution_count": 34,
   "metadata": {},
   "outputs": [
    {
     "data": {
      "text/plain": [
       "10"
      ]
     },
     "execution_count": 34,
     "metadata": {},
     "output_type": "execute_result"
    }
   ],
   "source": [
    "len(arr)"
   ]
  },
  {
   "cell_type": "markdown",
   "metadata": {},
   "source": [
    "Recall that arrays are **fixed-size**, so we cannot append, insert, or delete elements to/from them directly. These operations must be implemented by the data structure we build *on top of* the array.\n",
    "\n",
    "I.e., *an array is not a data structure*! It is a low-level *data storage* mechanism."
   ]
  },
  {
   "cell_type": "markdown",
   "metadata": {},
   "source": [
    "## 6. The `ArrayList` data structure"
   ]
  },
  {
   "cell_type": "markdown",
   "metadata": {},
   "source": [
    "Our list data structure will make use of a NumPy array as its backing data store. This array will have a fixed initial size, but as elements are added to the list it may become necessary to create a new, larger backing array and copy our elements over. Each time we create a new backing array, we will *double the capacity of the original* -- this may seem arbitrary now, but we will see why it is a critical detail later on!"
   ]
  },
  {
   "cell_type": "code",
   "execution_count": 146,
   "metadata": {},
   "outputs": [],
   "source": [
    "import numpy as np\n",
    "\n",
    "class ArrayList:\n",
    "    def __init__(self, size:int = 0):\n",
    "        self._data = np.empty(1, dtype=object)\n",
    "        self._size = size # number of elements in the list\n",
    "\n",
    "\n",
    "    def append(self, value):\n",
    "        # make sure there's enough space\n",
    "        new_size = self._size + 1\n",
    "        self._maybe_grow(new_size)\n",
    "        # then add the element\n",
    "        self._data[self._size] = value\n",
    "        # and assign the new size\n",
    "        self._size = new_size\n",
    "        \n",
    "    \n",
    "    def _maybe_grow(self, requested_size):\n",
    "        data_len = len(self._data)\n",
    "        # first check if there's space\n",
    "        if (requested_size > data_len):\n",
    "            # if not, grow the data storage\n",
    "            # by first creating a new array of double the length\n",
    "            new_list = np.empty(data_len * 2, dtype=object)\n",
    "            # then iterate over the old data & assign els to new array\n",
    "            for idx in range(data_len):\n",
    "                new_list[idx] = self._data[idx]\n",
    "                \n",
    "            # finally free the current data mem & iterator mem\n",
    "            self._data = None\n",
    "            iterator = None\n",
    "            del iterator\n",
    "            \n",
    "            # then assign new list as current data store\n",
    "            self._data = new_list\n",
    "            \n",
    "            \n",
    "    def _normalize_validate_idx(self, idx) -> int:\n",
    "        assert isinstance(idx, int), 'Index must be an integer'\n",
    "        # protect against indices greater than size\n",
    "        if (idx > self._size - 1):\n",
    "            raise IndexError(\"index out of range\")\n",
    "        # normalize negative indexes as max index - value\n",
    "        if (idx < 0):\n",
    "            # negatives count backward from size,\n",
    "            # so add size to negative index (same as size - abs(idx)))\n",
    "            idx += self._size\n",
    "            # now if idx is still negative, it's out of range\n",
    "            if idx < 0: raise IndexError(\"index out of range\")\n",
    "        \n",
    "        # return normalized & validated index\n",
    "        return idx\n",
    "\n",
    "\n",
    "    def __getitem__(self, idx):\n",
    "        \"\"\"Implements `x = self[idx]`\"\"\"\n",
    "        nidx = self._normalize_validate_idx(idx)\n",
    "        return self._data[nidx]\n",
    "    \n",
    "\n",
    "    def __setitem__(self, idx, value):\n",
    "        \"\"\"Implements `self[idx] = x`\"\"\"\n",
    "        nidx = self._normalize_validate_idx(idx)\n",
    "        self._data[nidx] = value\n",
    "        \n",
    "\n",
    "    def __delitem__(self, idx):\n",
    "        \"\"\"Implements `del self[idx]`\"\"\"\n",
    "        nidx = self._normalize_validate_idx(idx)\n",
    "        # loop over elements from requested delete idx to end\n",
    "        for i in range(nidx, self._size - 1):\n",
    "            # and copy the one after the current item to the current item's place\n",
    "            self._data[i] = self._data[i+1]\n",
    "        # finally, decrement size to account for deletion\n",
    "        self._size -= 1\n",
    "        \n",
    "    \n",
    "    def __len__(self):\n",
    "        \"\"\"Implements `len(self)`\"\"\"\n",
    "        return self._size # note: not the same as `len(self.data)`!\n",
    "    \n",
    "    \n",
    "    def __repr__(self):\n",
    "        \"\"\"Supports inspection\"\"\"\n",
    "        repr_elems = [repr(self._data[i]) for i in range(self._size)]\n",
    "        return '[' + ', '.join(repr_elems) + ']'"
   ]
  },
  {
   "cell_type": "code",
   "execution_count": 140,
   "metadata": {},
   "outputs": [
    {
     "name": "stdout",
     "output_type": "stream",
     "text": [
      "0\n",
      "9\n",
      "9\n"
     ]
    },
    {
     "data": {
      "text/plain": [
       "[0, 1, 2, 3, 4, 5, 6, 7, 8, 9]"
      ]
     },
     "execution_count": 140,
     "metadata": {},
     "output_type": "execute_result"
    }
   ],
   "source": [
    "l = ArrayList()\n",
    "for x in range(10):\n",
    "    l.append(x)\n",
    "print(l[0])\n",
    "print(l[9])\n",
    "print(l[-1])\n",
    "l"
   ]
  },
  {
   "cell_type": "code",
   "execution_count": 141,
   "metadata": {},
   "outputs": [
    {
     "data": {
      "text/plain": [
       "['hello', 1, 2, 3, 4, 5, 6, 7, 8, 'world']"
      ]
     },
     "execution_count": 141,
     "metadata": {},
     "output_type": "execute_result"
    }
   ],
   "source": [
    "l[0] = 'hello'\n",
    "l[-1] = 'world'\n",
    "l"
   ]
  },
  {
   "cell_type": "code",
   "execution_count": 142,
   "metadata": {},
   "outputs": [
    {
     "data": {
      "text/plain": [
       "['hello', 1, 'two', 3, 4, 5, 6, 'seven', 8, 'world']"
      ]
     },
     "execution_count": 142,
     "metadata": {},
     "output_type": "execute_result"
    }
   ],
   "source": [
    "l[2] = 'two'\n",
    "l[-3] = 'seven'\n",
    "l"
   ]
  },
  {
   "cell_type": "code",
   "execution_count": 143,
   "metadata": {},
   "outputs": [
    {
     "data": {
      "text/plain": [
       "['hello', 1, 'two', 3, 4, 6, 'seven', 8, 'world']"
      ]
     },
     "execution_count": 143,
     "metadata": {},
     "output_type": "execute_result"
    }
   ],
   "source": [
    "del l[5]\n",
    "l"
   ]
  },
  {
   "cell_type": "code",
   "execution_count": 144,
   "metadata": {},
   "outputs": [
    {
     "data": {
      "text/plain": [
       "[1, 'two', 3, 4, 6, 'seven', 8]"
      ]
     },
     "execution_count": 144,
     "metadata": {},
     "output_type": "execute_result"
    }
   ],
   "source": [
    "del l[0]\n",
    "del l[-1]\n",
    "l"
   ]
  },
  {
   "cell_type": "code",
   "execution_count": 145,
   "metadata": {},
   "outputs": [
    {
     "data": {
      "text/plain": [
       "7"
      ]
     },
     "execution_count": 145,
     "metadata": {},
     "output_type": "execute_result"
    }
   ],
   "source": [
    "len(l)"
   ]
  },
  {
   "cell_type": "markdown",
   "metadata": {},
   "source": [
    "## 7. Runtime analysis"
   ]
  },
  {
   "cell_type": "markdown",
   "metadata": {},
   "source": [
    "- Indexing: $O(1)$\n",
    "\n",
    "- Search (unsorted): $O(N)$\n",
    "\n",
    "- Search (sorted): $O(\\log N)$\n",
    "\n",
    "- Deletion: $O(N)$\n",
    "\n",
    "- Append: $O(1)$ amortized\n",
    "         \n",
    "- Insertion: $O(N)$"
   ]
  },
  {
   "cell_type": "markdown",
   "metadata": {},
   "source": [
    "### Not doubling?\n",
    "\n",
    "If we chose to expand the array by a constant amount instead of doubling it, what would be the amortized runtime for append?"
   ]
  },
  {
   "cell_type": "code",
   "execution_count": 147,
   "metadata": {},
   "outputs": [],
   "source": [
    "import numpy as np\n",
    "\n",
    "class ArrayList:\n",
    "    def __init__(self):\n",
    "        self.data = np.empty(1, dtype=object)\n",
    "        self.size = 0\n",
    "\n",
    "\n",
    "    def append(self, value, doubling=True):\n",
    "        if self.size == len(self.data):\n",
    "            if doubling:\n",
    "                nsize = 2 * len(self.data)\n",
    "            else:\n",
    "                nsize = len(self.data) + 1000\n",
    "\n",
    "            ndata = np.empty(nsize, dtype=object)\n",
    "            for i in range(len(self.data)):\n",
    "                ndata[i] = self.data[i]\n",
    "            self.data = ndata\n",
    "            \n",
    "        self.data[self.size] = value\n",
    "        self.size += 1"
   ]
  },
  {
   "cell_type": "code",
   "execution_count": 149,
   "metadata": {},
   "outputs": [
    {
     "data": {
      "image/png": "[encoded data removed]",
      "text/plain": [
       "<Figure size 640x480 with 1 Axes>"
      ]
     },
     "metadata": {},
     "output_type": "display_data"
    }
   ],
   "source": [
    "# plot average runtime of `append` for doubling vs. non-doubling strategies,\n",
    "# as a function of the total number of elements appended\n",
    "\n",
    "import timeit\n",
    "import matplotlib.pyplot as plt\n",
    "\n",
    "ns = np.linspace(1000, 10_000, 50, dtype=int)\n",
    "ts1 = [timeit.timeit(stmt=f'for _ in range({n}):'\n",
    "                          f'    lst.append(None, doubling=True)', \n",
    "                     setup='lst = ArrayList()',\n",
    "                     globals=globals(), \n",
    "                     number=10) / n\n",
    "       for n in ns]\n",
    "ts2 = [timeit.timeit(stmt=f'for _ in range({n}): '\n",
    "                          f'    lst.append(None, doubling=False)', \n",
    "                     setup='lst = ArrayList()',\n",
    "                     globals=globals(), \n",
    "                     number=10) / n\n",
    "       for n in ns]\n",
    "\n",
    "plt.plot(ns, ts1, 'ob')\n",
    "plt.plot(ns, ts2, 'or');"
   ]
  },
  {
   "cell_type": "markdown",
   "metadata": {},
   "source": [
    "Note how doubling the array size (in blue) gives us a *constant amortized runtime*.\n",
    "\n",
    "Not doubling the array size (in red) gives us a *linear amortized runtime*! (We won't prove this directly, but can easily observe it.)"
   ]
  }
 ],
 "metadata": {
  "kernelspec": {
   "display_name": "Python 3 (ipykernel)",
   "language": "python",
   "name": "python3"
  },
  "language_info": {
   "codemirror_mode": {
    "name": "ipython",
    "version": 3
   },
   "file_extension": ".py",
   "mimetype": "text/x-python",
   "name": "python",
   "nbconvert_exporter": "python",
   "pygments_lexer": "ipython3",
   "version": "3.12.3"
  }
 },
 "nbformat": 4,
 "nbformat_minor": 4
}
